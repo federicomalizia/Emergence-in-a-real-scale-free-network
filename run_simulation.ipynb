{
 "cells": [
  {
   "cell_type": "markdown",
   "metadata": {},
   "source": [
    "# Emergence in a real scale free Network"
   ]
  },
  {
   "cell_type": "markdown",
   "metadata": {},
   "source": [
    "Simulation of the dynamics of a social network using real data. A number of nodes will be generated, which will interact with each other trying to approach each other, and if there is sympathy between the pairs of nodes, friendships will be established.\n",
    "\n",
    "### Make sure to run the command %pylab inline first and then run simulation.py!\n",
    "\n",
    "Once the simulation has started, you will be asked to enter 5 parameters:\n",
    "\n",
    "__Number of nodes__: it represents the size of the network, mainly depends on the computing power of which is available, it is recommended not to exceed 500 nodes.\n",
    "\n",
    "__Shyness degree__: represents the shyness of each single node. It is possible to enter a value between 0 and 1 to have a constant value for each single node, or insert -1 to generate different random values for each node.\n",
    "\n",
    "__Tolerance degree__: represents what the agents are able to tolerate with respect to the character differences of the other agents that they approach. Like the shyness degree, it is possible to enter a value between 0 and 1 for a constant value in all nodes, or -1 to have different tolerance values for each individual approach.\n",
    "\n",
    "__Number of interactions__: Represents the number of approach pairs of nodes that can be generated. It is advisable to enter an interaction number next to or greater than the maximum number of edges in an undirected graph $E_{max} = \\frac{N(N-1)}{2}$ where N is the number of nodes"
   ]
  },
  {
   "cell_type": "code",
   "execution_count": 1,
   "metadata": {},
   "outputs": [
    {
     "name": "stdout",
     "output_type": "stream",
     "text": [
      "Populating the interactive namespace from numpy and matplotlib\n"
     ]
    }
   ],
   "source": [
    "%pylab inline"
   ]
  },
  {
   "cell_type": "code",
   "execution_count": null,
   "metadata": {},
   "outputs": [],
   "source": [
    "run simulation.py"
   ]
  }
 ],
 "metadata": {
  "kernelspec": {
   "display_name": "Python 3",
   "language": "python",
   "name": "python3"
  },
  "language_info": {
   "codemirror_mode": {
    "name": "ipython",
    "version": 3
   },
   "file_extension": ".py",
   "mimetype": "text/x-python",
   "name": "python",
   "nbconvert_exporter": "python",
   "pygments_lexer": "ipython3",
   "version": "3.6.4"
  }
 },
 "nbformat": 4,
 "nbformat_minor": 2
}
